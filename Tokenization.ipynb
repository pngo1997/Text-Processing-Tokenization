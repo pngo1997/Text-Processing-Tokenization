{
 "cells": [
  {
   "cell_type": "markdown",
   "id": "18120718-5145-4f70-b1b8-eebd087f53e3",
   "metadata": {},
   "source": [
    "#### Student Name: Mai Ngo\n",
    "#### Course Name and Number: CSC 583 Natural Language Processing\n",
    "#### Assignment 1 - Text Preprocessing\n",
    "#### Date: 9/18/2024"
   ]
  },
  {
   "cell_type": "markdown",
   "id": "efc67c5f-e71b-4063-8e23-ae9161ac1754",
   "metadata": {},
   "source": [
    "### Task 1 -- Using 'sample_2024.txt'"
   ]
  },
  {
   "cell_type": "code",
   "execution_count": 1,
   "id": "32c18bf9-bf39-4c90-8114-ba5a2fc49ffb",
   "metadata": {},
   "outputs": [],
   "source": [
    "import requests\n",
    "import re\n",
    "from nltk.tokenize import word_tokenize, wordpunct_tokenize, sent_tokenize\n",
    "import matplotlib.pyplot as plt\n",
    "import numpy as np"
   ]
  },
  {
   "cell_type": "markdown",
   "id": "ebde6576-6af0-4239-93ee-c9f35d91a8b4",
   "metadata": {},
   "source": [
    "#### Read file."
   ]
  },
  {
   "cell_type": "code",
   "execution_count": 2,
   "id": "247388ea-d215-4f3a-a38e-d9decca41550",
   "metadata": {},
   "outputs": [
    {
     "name": "stdout",
     "output_type": "stream",
     "text": [
      "# of paragraphs = 8\n"
     ]
    }
   ],
   "source": [
    "fileURL1 = 'https://condor.depaul.edu/ntomuro/courses/583/2024fall/assign/HW1/hw1files/sample_2024.txt'\n",
    "\n",
    "def paragraphNum(fileURL, encoding = None):\n",
    "    '''Takes a URL of a text file and return number of paragraphs.'''\n",
    "    response = requests.get(fileURL)\n",
    "    if response.status_code == 200:\n",
    "        if encoding:\n",
    "            content = response.content.decode(encoding)\n",
    "        else:\n",
    "            #Whole content as a string.                                                                                                                    \n",
    "            content = response.text\n",
    "        ###After reading raw content, it shows that paragraphs are separted not only by double new line characters '\\n\\n', but also cases where there are white spaces before, after, or in between. \n",
    "        #--\\s*-- Matches any amount of white space. \n",
    "        paragraphList = re.split(r'\\s*\\n\\s*\\n\\s*', content.strip())\n",
    "        #Get paragraph count. \n",
    "        paragraphNum = len(paragraphList)\n",
    "        print(f'# of paragraphs = {paragraphNum}')\n",
    "        return paragraphNum, paragraphList, content\n",
    "    else:\n",
    "        print(f\"Not working!\")\n",
    "\n",
    "paragraphNum1, paragraphList1, content1 = paragraphNum(fileURL1)"
   ]
  },
  {
   "cell_type": "code",
   "execution_count": 3,
   "id": "943c7097-1d26-4765-8635-c839e84947bc",
   "metadata": {},
   "outputs": [
    {
     "name": "stdout",
     "output_type": "stream",
     "text": [
      "# of sentences = 31\n"
     ]
    }
   ],
   "source": [
    "def sentenceNum(textContent):\n",
    "    '''Takes content of a text file and return number of sentences.'''\n",
    "    #Special condition: Apply sent_tokenize where, it only separates if the first character of the next 'separated' sentence is capitalized. Otherwise it stays together.\n",
    "    orig_sentenceList = sent_tokenize(textContent, language='english')\n",
    "    sentenceList = []\n",
    "    \n",
    "    #Iterate through sentences and combine based on capitalization.\n",
    "    i = 0\n",
    "    while i < len(orig_sentenceList):\n",
    "        #If the next sentence starts with a capital letter, keep them separate.\n",
    "        if i + 1 < len(orig_sentenceList) and orig_sentenceList[i + 1][0].isupper():\n",
    "            sentenceList.append(orig_sentenceList[i])\n",
    "        else:\n",
    "            #Apply condition: Combine sentences that next one does not start with a capital letter.\n",
    "            combinedSentence = orig_sentenceList[i]\n",
    "            while i + 1 < len(orig_sentenceList) and not orig_sentenceList[i + 1][0].isupper():\n",
    "                combinedSentence += ' ' + orig_sentenceList[i + 1]\n",
    "                i += 1\n",
    "            sentenceList.append(combinedSentence)\n",
    "        i += 1\n",
    "    sentenceCount = len(sentenceList)\n",
    "    print(f'# of sentences = {sentenceCount}')\n",
    "    return sentenceList, sentenceCount\n",
    "    \n",
    "sentenceList1, sentenceNum1 = sentenceNum(content1)"
   ]
  },
  {
   "cell_type": "code",
   "execution_count": 4,
   "id": "a9a84a3c-dff8-485b-84ac-a8c2608a4bbe",
   "metadata": {},
   "outputs": [
    {
     "name": "stdout",
     "output_type": "stream",
     "text": [
      "# of tokens = 567\n",
      "# of unique tokens = 273\n"
     ]
    }
   ],
   "source": [
    "def getTokens(sentenceList):\n",
    "    '''Take a list of sentences and returns total and unique number of tokens.'''\n",
    "    #Contraction dictionary.\n",
    "    contractionList = {\n",
    "        \"let's\": \" let us \",\n",
    "        \"won't\": \" will not \",\n",
    "        \"can't\": \" can not \",\n",
    "        \"shan't\": \" shall not \",\n",
    "        \"wouldn't've\": \" would not have \",\n",
    "        \"n't\": \" not \",\n",
    "        \"'ll\": \" will \",\n",
    "        \"'ve\": \" have \",\n",
    "        \"'d\": \" would \",\n",
    "        \"'re \": \" are \",\n",
    "        \"'s\": \" is \",\n",
    "        \"i'm\": \" i am \"}\n",
    "\n",
    "    #Store cleaned tokens.\n",
    "    masterToken = []\n",
    "    #Count number of tokens.\n",
    "    counter = 0\n",
    "    #Store token frequecy. \n",
    "    res = {}\n",
    "\n",
    "    #Iterate through each sentence. \n",
    "    for sentence in sentenceList:\n",
    "        sentence = sentence.lower()  \n",
    "    \n",
    "        #If any word in a sentence match a key in the contracttion list, replace with value using Regex. \n",
    "        for contraction, replacement in contractionList.items():\n",
    "            #--\\b-- Matches position from start to end. EXACT word. Ex: \"let's\" to 'let' and 'us'.\n",
    "            sentence = re.sub(r'\\b' + re.escape(contraction) + r'\\b', replacement, sentence)\n",
    "            #--\\W*-- Matches contraction WITHIN a word. Except for word starts with punctuation. \n",
    "            sentence = re.sub(r\"(?<!\\')\\W*\" + re.escape(contraction) + r\"\\b\", replacement, sentence)\n",
    "        \n",
    "        #Apply word tokenization after expanding all contractions.\n",
    "        tokenList = word_tokenize(sentence)\n",
    "        for token in tokenList:\n",
    "            #Further punctuation clean: 'e.g.', 'feb.', '.have' -- manually. \n",
    "            if re.match(r'^\\w+\\.\\w+\\.$', token) or re.match(r'^\\w+\\.$', token):\n",
    "                masterToken.append(token[:-1])  \n",
    "                masterToken.append('.')  \n",
    "            elif re.match(r\"^'\\w+\", token):\n",
    "                masterToken.append(token[1:])\n",
    "                masterToken.append(\"'\")\n",
    "            else:\n",
    "                masterToken.append(token)  \n",
    "    #Count tokens.            \n",
    "    for token in masterToken:\n",
    "        if token in res:\n",
    "            res[token] += 1\n",
    "        else: \n",
    "            res[token] = 1\n",
    "\n",
    "    uniqueToken = len(set(masterToken))\n",
    "    tokenNum = len(masterToken)\n",
    "    print(f'# of tokens = {tokenNum}')\n",
    "    print(f'# of unique tokens = {uniqueToken}')\n",
    "    return res, uniqueToken, tokenNum\n",
    "\n",
    "tokenDict1, uniqueToken1, tokenNum1 = getTokens(sentenceList1)"
   ]
  },
  {
   "cell_type": "markdown",
   "id": "e0b8f262-59f7-4d37-8ad1-679f3edd169a",
   "metadata": {},
   "source": [
    "#### Write output."
   ]
  },
  {
   "cell_type": "code",
   "execution_count": 5,
   "id": "2898e627-7cde-4229-b8c8-bd5cb88c9a50",
   "metadata": {},
   "outputs": [
    {
     "name": "stdout",
     "output_type": "stream",
     "text": [
      "Successfully written!\n"
     ]
    }
   ],
   "source": [
    "#Primary sort: value in descending order.\n",
    "#Secondary sort: key in alphabetical order.\n",
    "sorted_tokenDict1 = sorted(tokenDict1.items(), key=lambda item: (-item[1], item[0]))\n",
    "with open('task1-output.txt', 'w') as outFile:\n",
    "    outFile.write(f'# of paragraphs = {paragraphNum1}\\n')\n",
    "    outFile.write(f'# of sentences = {sentenceNum1}\\n')\n",
    "    outFile.write(f'# of tokens = {tokenNum1}\\n')\n",
    "    outFile.write(f'# of unique tokens = {uniqueToken1}\\n')\n",
    "    outFile.write(\"=\"*36 + \"\\n\")\n",
    "\n",
    "    for index, (key, value) in enumerate(sorted_tokenDict1, start=1):\n",
    "        outFile.write(f\"{index}: {key}  {value}\\n\")\n",
    "print(f\"Successfully written!\")"
   ]
  },
  {
   "cell_type": "markdown",
   "id": "134d5bae-2496-4d39-9c3e-d21ccb345361",
   "metadata": {},
   "source": [
    "### Task 2 -- Using 'war-and-peace.txt'"
   ]
  },
  {
   "cell_type": "code",
   "execution_count": 6,
   "id": "d4bce14e-91ee-4839-b320-b687e1bb6b5a",
   "metadata": {},
   "outputs": [
    {
     "name": "stdout",
     "output_type": "stream",
     "text": [
      "# of paragraphs = 12169\n"
     ]
    }
   ],
   "source": [
    "fileURL2 = 'https://condor.depaul.edu/ntomuro/courses/583/2024fall/assign/HW1/hw1files/war-and-peace.txt'\n",
    "paragraphNum2, paragraphList2, content2 = paragraphNum(fileURL2, encoding = 'utf-8-sig')"
   ]
  },
  {
   "cell_type": "code",
   "execution_count": 7,
   "id": "0bd48c17-77a1-49ba-98c9-4f45c09091d8",
   "metadata": {},
   "outputs": [],
   "source": [
    "#Store original sentences resulted from sent_tokenization. 33,553 sentences. \n",
    "sentFilter = []\n",
    "for paragraph in paragraphList2: \n",
    "    sentences = sent_tokenize(paragraph)\n",
    "    sentFilter.extend(sentences)\n",
    "\n",
    "#Further split. Conditions: A punctuation follows by n-white spaces and an uppercase letter. 34,052 sentences.\n",
    "sentFilter2 = []\n",
    "for sentence in sentFilter:\n",
    "    #--(?<=[.!?\\'\"\\'])-- Matches any punctuation.\n",
    "    #--\\s+-- Matches any amount of white spaces.\n",
    "    #--(?=[A-Z])-- Matches any uppercase letter.\n",
    "    pattern = r'(?<=[.!?\\'\"\\'])\\s+(?=[A-Z])'\n",
    "    parts = re.split(pattern, sentence)  \n",
    "    sentFilter2.extend([part for part in parts])"
   ]
  },
  {
   "cell_type": "code",
   "execution_count": 8,
   "id": "c1d2a80e-21ac-448a-9f37-3a305e29db54",
   "metadata": {},
   "outputs": [
    {
     "name": "stdout",
     "output_type": "stream",
     "text": [
      "# of sentences = 31580\n"
     ]
    }
   ],
   "source": [
    "i = 0\n",
    "#Re-combine sentences - Same logic as task 1, only separates if the first character of the next 'separated' sentence is capitalized. Otherwise it stays together.\n",
    "sentenceList2 = []\n",
    "while i < len(sentFilter2):\n",
    "    if i + 1 < len(sentFilter2) and (sentFilter2[i + 1][0].isupper()):\n",
    "        sentenceList2.append(sentFilter2[i])\n",
    "    else:\n",
    "        combinedSentence = sentFilter2[i]\n",
    "        while i + 1 < len(sentFilter2) and sentFilter2[i + 1][0].islower():\n",
    "            combinedSentence += ' ' + sentFilter2[i + 1]\n",
    "            i += 1\n",
    "        sentenceList2.append(combinedSentence)\n",
    "    i += 1\n",
    "    \n",
    "#Get sentence count. \n",
    "sentenceNum2 = len(sentenceList2)\n",
    "print(f'# of sentences = {sentenceNum2}')"
   ]
  },
  {
   "cell_type": "code",
   "execution_count": 9,
   "id": "b618e7a4-2066-4220-be1d-9a6dfe38c323",
   "metadata": {},
   "outputs": [
    {
     "name": "stdout",
     "output_type": "stream",
     "text": [
      "# of tokens = 673063\n",
      "# of unique tokens = 18417\n"
     ]
    }
   ],
   "source": [
    "tokenDict2, uniqueToken2, tokenNum2 = getTokens(sentenceList2)"
   ]
  },
  {
   "cell_type": "markdown",
   "id": "3d671238-caf6-432f-9623-0041b9e1883f",
   "metadata": {},
   "source": [
    "#### Write output."
   ]
  },
  {
   "cell_type": "code",
   "execution_count": 10,
   "id": "88fbcf53-1b26-4abe-8efc-d258752ed2d3",
   "metadata": {},
   "outputs": [
    {
     "name": "stdout",
     "output_type": "stream",
     "text": [
      "Successfully written!\n"
     ]
    }
   ],
   "source": [
    "#Primary sort: value in descending order.\n",
    "#Secondary sort: key in alphabetical order.\n",
    "sorted_tokenDict2 = sorted(tokenDict2.items(), key=lambda item: (-item[1], item[0]))\n",
    "\n",
    "with open('task2-output.txt', 'w', encoding='utf-8') as outFile:\n",
    "    outFile.write(f'# of paragraphs = {paragraphNum2}\\n')\n",
    "    outFile.write(f'# of sentences = {sentenceNum2}\\n')\n",
    "    outFile.write(f'# of tokens = {tokenNum2}\\n')\n",
    "    outFile.write(f'# of unique tokens = {uniqueToken2}\\n')\n",
    "    outFile.write(\"=\"*36 + \"\\n\")\n",
    "\n",
    "    for index, (key, value) in enumerate(sorted_tokenDict2, start=1):\n",
    "        outFile.write(f\"{index}: {key}  {value}\\n\")\n",
    "print(f\"Successfully written!\")"
   ]
  },
  {
   "cell_type": "markdown",
   "id": "3779a31f-6dff-4ad0-aa78-4d854ff8d5d4",
   "metadata": {},
   "source": [
    "#### Zipf\\'s Law Chart."
   ]
  },
  {
   "cell_type": "code",
   "execution_count": 11,
   "id": "ca3c0703-990b-47ac-b0a5-9681ea617123",
   "metadata": {},
   "outputs": [
    {
     "data": {
      "image/png": "[encoded data removed]",
      "text/plain": [
       "<Figure size 800x300 with 1 Axes>"
      ]
     },
     "metadata": {},
     "output_type": "display_data"
    }
   ],
   "source": [
    "#Logic: Plot the rank in descending order againsts its frequency (in nautral log).\n",
    "words, freqs = zip(*sorted_tokenDict2)\n",
    "ranks = np.arange(1, len(freqs) + 1)\n",
    "#Natural log calculation.\n",
    "logFreq = np.log(freqs)\n",
    "\n",
    "plt.figure(figsize=(8, 3))\n",
    "plt.plot(ranks, logFreq, color='red')\n",
    "plt.title('Zipf\\'s Law: Log Frequency vs. Token Rank')\n",
    "plt.xlabel('Token Rank')\n",
    "plt.ylabel('Log Frequency')\n",
    "plt.show()"
   ]
  }
 ],
 "metadata": {
  "kernelspec": {
   "display_name": "Python 3 (ipykernel)",
   "language": "python",
   "name": "python3"
  },
  "language_info": {
   "codemirror_mode": {
    "name": "ipython",
    "version": 3
   },
   "file_extension": ".py",
   "mimetype": "text/x-python",
   "name": "python",
   "nbconvert_exporter": "python",
   "pygments_lexer": "ipython3",
   "version": "3.9.13"
  }
 },
 "nbformat": 4,
 "nbformat_minor": 5
}
